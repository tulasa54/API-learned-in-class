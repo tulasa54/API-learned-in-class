{
 "cells": [
  {
   "cell_type": "code",
   "execution_count": 15,
   "id": "381bbd47",
   "metadata": {},
   "outputs": [],
   "source": [
    "import requests\n",
    "import json"
   ]
  },
  {
   "cell_type": "code",
   "execution_count": 12,
   "id": "0b148793",
   "metadata": {},
   "outputs": [],
   "source": [
    "API_key = 'd782bd64d7bd7968444fc28b596ece25'\n",
    "\n",
    "city_name = 'New York'\n",
    "\n",
    "url = f'https://api.openweathermap.org/data/2.5/weather?q={city_name}&appid={API_key}&units=imperial'\n",
    "\n",
    "r = requests.get(url)"
   ]
  },
  {
   "cell_type": "code",
   "execution_count": 13,
   "id": "1b4e700b",
   "metadata": {},
   "outputs": [
    {
     "name": "stdout",
     "output_type": "stream",
     "text": [
      "Unformattes JSON:\n",
      "{'coord': {'lon': -74.006, 'lat': 40.7143}, 'weather': [{'id': 800, 'main': 'Clear', 'description': 'clear sky', 'icon': '01d'}], 'base': 'stations', 'main': {'temp': 62.89, 'feels_like': 60.94, 'temp_min': 59.95, 'temp_max': 66.29, 'pressure': 1028, 'humidity': 44}, 'visibility': 10000, 'wind': {'speed': 24, 'deg': 293, 'gust': 34}, 'clouds': {'all': 9}, 'dt': 1650639590, 'sys': {'type': 2, 'id': 2008776, 'country': 'US', 'sunrise': 1650622001, 'sunset': 1650670919}, 'timezone': -14400, 'id': 5128581, 'name': 'New York', 'cod': 200}\n",
      "\n",
      "Formatted JSON:\n",
      "{\n",
      "    \"base\": \"stations\",\n",
      "    \"clouds\": {\n",
      "        \"all\": 9\n",
      "    },\n",
      "    \"cod\": 200,\n",
      "    \"coord\": {\n",
      "        \"lat\": 40.7143,\n",
      "        \"lon\": -74.006\n",
      "    },\n",
      "    \"dt\": 1650639590,\n",
      "    \"id\": 5128581,\n",
      "    \"main\": {\n",
      "        \"feels_like\": 60.94,\n",
      "        \"humidity\": 44,\n",
      "        \"pressure\": 1028,\n",
      "        \"temp\": 62.89,\n",
      "        \"temp_max\": 66.29,\n",
      "        \"temp_min\": 59.95\n",
      "    },\n",
      "    \"name\": \"New York\",\n",
      "    \"sys\": {\n",
      "        \"country\": \"US\",\n",
      "        \"id\": 2008776,\n",
      "        \"sunrise\": 1650622001,\n",
      "        \"sunset\": 1650670919,\n",
      "        \"type\": 2\n",
      "    },\n",
      "    \"timezone\": -14400,\n",
      "    \"visibility\": 10000,\n",
      "    \"weather\": [\n",
      "        {\n",
      "            \"description\": \"clear sky\",\n",
      "            \"icon\": \"01d\",\n",
      "            \"id\": 800,\n",
      "            \"main\": \"Clear\"\n",
      "        }\n",
      "    ],\n",
      "    \"wind\": {\n",
      "        \"deg\": 293,\n",
      "        \"gust\": 34,\n",
      "        \"speed\": 24\n",
      "    }\n",
      "}\n"
     ]
    }
   ],
   "source": [
    "if (r.status_code == 200):\n",
    "    \n",
    "    data = r.json()\n",
    "    \n",
    "    print(f'Unformattes JSON:\\n{data}\\n')\n",
    "    \n",
    "    formatted_json = json.dumps(data, sort_keys = True, indent = 4)\n",
    "    \n",
    "    print(f'Formatted JSON:\\n{formatted_json}')"
   ]
  },
  {
   "cell_type": "code",
   "execution_count": 14,
   "id": "178394b4",
   "metadata": {},
   "outputs": [
    {
     "name": "stdout",
     "output_type": "stream",
     "text": [
      "New York temperature is 62.89.\n",
      "New York humidity is 44.\n",
      "New York weather description is clear sky.\n"
     ]
    }
   ],
   "source": [
    "temperature = data['main']['temp']\n",
    "humidity = data['main']['humidity']\n",
    "description = data['weather'][0]['description']\n",
    "name = data['name']\n",
    "\n",
    "print(f'{name} temperature is {temperature}.')\n",
    "print(f'{name} humidity is {humidity}.')\n",
    "print(f'{name} weather description is {description}.')"
   ]
  },
  {
   "cell_type": "code",
   "execution_count": null,
   "id": "773b0184",
   "metadata": {},
   "outputs": [],
   "source": []
  }
 ],
 "metadata": {
  "kernelspec": {
   "display_name": "Python 3",
   "language": "python",
   "name": "python3"
  },
  "language_info": {
   "codemirror_mode": {
    "name": "ipython",
    "version": 3
   },
   "file_extension": ".py",
   "mimetype": "text/x-python",
   "name": "python",
   "nbconvert_exporter": "python",
   "pygments_lexer": "ipython3",
   "version": "3.8.8"
  }
 },
 "nbformat": 4,
 "nbformat_minor": 5
}
